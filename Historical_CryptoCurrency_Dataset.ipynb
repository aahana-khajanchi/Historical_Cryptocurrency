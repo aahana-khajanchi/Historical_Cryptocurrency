{
 "cells": [
  {
   "cell_type": "markdown",
   "metadata": {},
   "source": [
    "## Imported Libraries"
   ]
  },
  {
   "cell_type": "code",
   "execution_count": 136,
   "metadata": {},
   "outputs": [],
   "source": [
    "import numpy as np # linear algebra\n",
    "import pandas as pd # data processing, CSV file I/O (e.g. pd.read_csv)\n",
    "import matplotlib.pyplot as plt\n",
    "import seaborn as sns\n",
    "\n",
    "my_year_month_fmt = mdates.DateFormatter('%y/%m')\n",
    "%matplotlib inline"
   ]
  },
  {
   "cell_type": "markdown",
   "metadata": {},
   "source": [
    "#### Imported Dataset"
   ]
  },
  {
   "cell_type": "code",
   "execution_count": 4,
   "metadata": {},
   "outputs": [
    {
     "data": {
      "text/html": [
       "<div>\n",
       "<style scoped>\n",
       "    .dataframe tbody tr th:only-of-type {\n",
       "        vertical-align: middle;\n",
       "    }\n",
       "\n",
       "    .dataframe tbody tr th {\n",
       "        vertical-align: top;\n",
       "    }\n",
       "\n",
       "    .dataframe thead th {\n",
       "        text-align: right;\n",
       "    }\n",
       "</style>\n",
       "<table border=\"1\" class=\"dataframe\">\n",
       "  <thead>\n",
       "    <tr style=\"text-align: right;\">\n",
       "      <th></th>\n",
       "      <th>Date</th>\n",
       "      <th>Open</th>\n",
       "      <th>High</th>\n",
       "      <th>Low</th>\n",
       "      <th>Close</th>\n",
       "      <th>Volume</th>\n",
       "      <th>Market Cap</th>\n",
       "    </tr>\n",
       "  </thead>\n",
       "  <tbody>\n",
       "    <tr>\n",
       "      <th>0</th>\n",
       "      <td>2018-02-20</td>\n",
       "      <td>11231.8</td>\n",
       "      <td>11958.5</td>\n",
       "      <td>11231.80</td>\n",
       "      <td>11403.7</td>\n",
       "      <td>9,926,540,000</td>\n",
       "      <td>189,536,000,000</td>\n",
       "    </tr>\n",
       "    <tr>\n",
       "      <th>1</th>\n",
       "      <td>2018-02-19</td>\n",
       "      <td>10552.6</td>\n",
       "      <td>11273.8</td>\n",
       "      <td>10513.20</td>\n",
       "      <td>11225.3</td>\n",
       "      <td>7,652,090,000</td>\n",
       "      <td>178,055,000,000</td>\n",
       "    </tr>\n",
       "    <tr>\n",
       "      <th>2</th>\n",
       "      <td>2018-02-18</td>\n",
       "      <td>11123.4</td>\n",
       "      <td>11349.8</td>\n",
       "      <td>10326.00</td>\n",
       "      <td>10551.8</td>\n",
       "      <td>8,744,010,000</td>\n",
       "      <td>187,663,000,000</td>\n",
       "    </tr>\n",
       "    <tr>\n",
       "      <th>3</th>\n",
       "      <td>2018-02-17</td>\n",
       "      <td>10207.5</td>\n",
       "      <td>11139.5</td>\n",
       "      <td>10149.40</td>\n",
       "      <td>11112.7</td>\n",
       "      <td>8,660,880,000</td>\n",
       "      <td>172,191,000,000</td>\n",
       "    </tr>\n",
       "    <tr>\n",
       "      <th>4</th>\n",
       "      <td>2018-02-16</td>\n",
       "      <td>10135.7</td>\n",
       "      <td>10324.1</td>\n",
       "      <td>9824.82</td>\n",
       "      <td>10233.9</td>\n",
       "      <td>7,296,160,000</td>\n",
       "      <td>170,960,000,000</td>\n",
       "    </tr>\n",
       "  </tbody>\n",
       "</table>\n",
       "</div>"
      ],
      "text/plain": [
       "        Date     Open     High       Low    Close         Volume  \\\n",
       "0 2018-02-20  11231.8  11958.5  11231.80  11403.7  9,926,540,000   \n",
       "1 2018-02-19  10552.6  11273.8  10513.20  11225.3  7,652,090,000   \n",
       "2 2018-02-18  11123.4  11349.8  10326.00  10551.8  8,744,010,000   \n",
       "3 2018-02-17  10207.5  11139.5  10149.40  11112.7  8,660,880,000   \n",
       "4 2018-02-16  10135.7  10324.1   9824.82  10233.9  7,296,160,000   \n",
       "\n",
       "        Market Cap  \n",
       "0  189,536,000,000  \n",
       "1  178,055,000,000  \n",
       "2  187,663,000,000  \n",
       "3  172,191,000,000  \n",
       "4  170,960,000,000  "
      ]
     },
     "execution_count": 4,
     "metadata": {},
     "output_type": "execute_result"
    }
   ],
   "source": [
    "df_bitcoin = pd.read_csv(\"bitcoin_price.csv\", parse_dates=['Date'])\n",
    "df_bitcoin.head()"
   ]
  },
  {
   "cell_type": "code",
   "execution_count": 5,
   "metadata": {},
   "outputs": [
    {
     "data": {
      "text/html": [
       "<div>\n",
       "<style scoped>\n",
       "    .dataframe tbody tr th:only-of-type {\n",
       "        vertical-align: middle;\n",
       "    }\n",
       "\n",
       "    .dataframe tbody tr th {\n",
       "        vertical-align: top;\n",
       "    }\n",
       "\n",
       "    .dataframe thead th {\n",
       "        text-align: right;\n",
       "    }\n",
       "</style>\n",
       "<table border=\"1\" class=\"dataframe\">\n",
       "  <thead>\n",
       "    <tr style=\"text-align: right;\">\n",
       "      <th></th>\n",
       "      <th>Date</th>\n",
       "      <th>Open</th>\n",
       "      <th>High</th>\n",
       "      <th>Low</th>\n",
       "      <th>Close</th>\n",
       "      <th>Volume</th>\n",
       "      <th>Market Cap</th>\n",
       "    </tr>\n",
       "  </thead>\n",
       "  <tbody>\n",
       "    <tr>\n",
       "      <th>0</th>\n",
       "      <td>2018-02-20</td>\n",
       "      <td>943.57</td>\n",
       "      <td>965.26</td>\n",
       "      <td>892.95</td>\n",
       "      <td>895.37</td>\n",
       "      <td>2,545,260,000</td>\n",
       "      <td>92,206,500,000</td>\n",
       "    </tr>\n",
       "    <tr>\n",
       "      <th>1</th>\n",
       "      <td>2018-02-19</td>\n",
       "      <td>921.67</td>\n",
       "      <td>957.78</td>\n",
       "      <td>921.55</td>\n",
       "      <td>943.87</td>\n",
       "      <td>2,169,020,000</td>\n",
       "      <td>90,047,700,000</td>\n",
       "    </tr>\n",
       "    <tr>\n",
       "      <th>2</th>\n",
       "      <td>2018-02-18</td>\n",
       "      <td>973.35</td>\n",
       "      <td>982.93</td>\n",
       "      <td>915.45</td>\n",
       "      <td>923.92</td>\n",
       "      <td>2,567,290,000</td>\n",
       "      <td>95,077,100,000</td>\n",
       "    </tr>\n",
       "    <tr>\n",
       "      <th>3</th>\n",
       "      <td>2018-02-17</td>\n",
       "      <td>944.75</td>\n",
       "      <td>976.60</td>\n",
       "      <td>940.75</td>\n",
       "      <td>974.12</td>\n",
       "      <td>2,525,720,000</td>\n",
       "      <td>92,264,000,000</td>\n",
       "    </tr>\n",
       "    <tr>\n",
       "      <th>4</th>\n",
       "      <td>2018-02-16</td>\n",
       "      <td>934.79</td>\n",
       "      <td>950.00</td>\n",
       "      <td>917.85</td>\n",
       "      <td>944.21</td>\n",
       "      <td>2,369,450,000</td>\n",
       "      <td>91,272,100,000</td>\n",
       "    </tr>\n",
       "  </tbody>\n",
       "</table>\n",
       "</div>"
      ],
      "text/plain": [
       "        Date    Open    High     Low   Close         Volume      Market Cap\n",
       "0 2018-02-20  943.57  965.26  892.95  895.37  2,545,260,000  92,206,500,000\n",
       "1 2018-02-19  921.67  957.78  921.55  943.87  2,169,020,000  90,047,700,000\n",
       "2 2018-02-18  973.35  982.93  915.45  923.92  2,567,290,000  95,077,100,000\n",
       "3 2018-02-17  944.75  976.60  940.75  974.12  2,525,720,000  92,264,000,000\n",
       "4 2018-02-16  934.79  950.00  917.85  944.21  2,369,450,000  91,272,100,000"
      ]
     },
     "execution_count": 5,
     "metadata": {},
     "output_type": "execute_result"
    }
   ],
   "source": [
    "df_ethereum = pd.read_csv(\"ethereum_price.csv\", parse_dates=['Date'])\n",
    "df_ethereum.head()"
   ]
  },
  {
   "cell_type": "code",
   "execution_count": 6,
   "metadata": {},
   "outputs": [
    {
     "data": {
      "text/html": [
       "<div>\n",
       "<style scoped>\n",
       "    .dataframe tbody tr th:only-of-type {\n",
       "        vertical-align: middle;\n",
       "    }\n",
       "\n",
       "    .dataframe tbody tr th {\n",
       "        vertical-align: top;\n",
       "    }\n",
       "\n",
       "    .dataframe thead th {\n",
       "        text-align: right;\n",
       "    }\n",
       "</style>\n",
       "<table border=\"1\" class=\"dataframe\">\n",
       "  <thead>\n",
       "    <tr style=\"text-align: right;\">\n",
       "      <th></th>\n",
       "      <th>Date</th>\n",
       "      <th>Open</th>\n",
       "      <th>High</th>\n",
       "      <th>Low</th>\n",
       "      <th>Close</th>\n",
       "      <th>Volume</th>\n",
       "      <th>Market Cap</th>\n",
       "    </tr>\n",
       "  </thead>\n",
       "  <tbody>\n",
       "    <tr>\n",
       "      <th>0</th>\n",
       "      <td>2018-02-20</td>\n",
       "      <td>223.09</td>\n",
       "      <td>253.90</td>\n",
       "      <td>222.51</td>\n",
       "      <td>232.85</td>\n",
       "      <td>1,739,670,000</td>\n",
       "      <td>12,335,100,000</td>\n",
       "    </tr>\n",
       "    <tr>\n",
       "      <th>1</th>\n",
       "      <td>2018-02-19</td>\n",
       "      <td>215.41</td>\n",
       "      <td>226.97</td>\n",
       "      <td>215.38</td>\n",
       "      <td>223.06</td>\n",
       "      <td>767,597,000</td>\n",
       "      <td>11,907,900,000</td>\n",
       "    </tr>\n",
       "    <tr>\n",
       "      <th>2</th>\n",
       "      <td>2018-02-18</td>\n",
       "      <td>230.51</td>\n",
       "      <td>232.64</td>\n",
       "      <td>214.46</td>\n",
       "      <td>215.74</td>\n",
       "      <td>1,011,120,000</td>\n",
       "      <td>12,738,800,000</td>\n",
       "    </tr>\n",
       "    <tr>\n",
       "      <th>3</th>\n",
       "      <td>2018-02-17</td>\n",
       "      <td>229.50</td>\n",
       "      <td>233.45</td>\n",
       "      <td>225.60</td>\n",
       "      <td>229.47</td>\n",
       "      <td>863,401,000</td>\n",
       "      <td>12,679,700,000</td>\n",
       "    </tr>\n",
       "    <tr>\n",
       "      <th>4</th>\n",
       "      <td>2018-02-16</td>\n",
       "      <td>225.50</td>\n",
       "      <td>236.09</td>\n",
       "      <td>212.33</td>\n",
       "      <td>230.12</td>\n",
       "      <td>1,300,090,000</td>\n",
       "      <td>12,455,300,000</td>\n",
       "    </tr>\n",
       "  </tbody>\n",
       "</table>\n",
       "</div>"
      ],
      "text/plain": [
       "        Date    Open    High     Low   Close         Volume      Market Cap\n",
       "0 2018-02-20  223.09  253.90  222.51  232.85  1,739,670,000  12,335,100,000\n",
       "1 2018-02-19  215.41  226.97  215.38  223.06    767,597,000  11,907,900,000\n",
       "2 2018-02-18  230.51  232.64  214.46  215.74  1,011,120,000  12,738,800,000\n",
       "3 2018-02-17  229.50  233.45  225.60  229.47    863,401,000  12,679,700,000\n",
       "4 2018-02-16  225.50  236.09  212.33  230.12  1,300,090,000  12,455,300,000"
      ]
     },
     "execution_count": 6,
     "metadata": {},
     "output_type": "execute_result"
    }
   ],
   "source": [
    "df_litecoin = pd.read_csv(\"litecoin_price.csv\", parse_dates=['Date'])\n",
    "df_litecoin.head()"
   ]
  },
  {
   "cell_type": "code",
   "execution_count": 7,
   "metadata": {},
   "outputs": [
    {
     "data": {
      "text/html": [
       "<div>\n",
       "<style scoped>\n",
       "    .dataframe tbody tr th:only-of-type {\n",
       "        vertical-align: middle;\n",
       "    }\n",
       "\n",
       "    .dataframe tbody tr th {\n",
       "        vertical-align: top;\n",
       "    }\n",
       "\n",
       "    .dataframe thead th {\n",
       "        text-align: right;\n",
       "    }\n",
       "</style>\n",
       "<table border=\"1\" class=\"dataframe\">\n",
       "  <thead>\n",
       "    <tr style=\"text-align: right;\">\n",
       "      <th></th>\n",
       "      <th>Date</th>\n",
       "      <th>Open</th>\n",
       "      <th>High</th>\n",
       "      <th>Low</th>\n",
       "      <th>Close</th>\n",
       "      <th>Volume</th>\n",
       "      <th>Market Cap</th>\n",
       "    </tr>\n",
       "  </thead>\n",
       "  <tbody>\n",
       "    <tr>\n",
       "      <th>0</th>\n",
       "      <td>2018-02-20</td>\n",
       "      <td>1.14</td>\n",
       "      <td>1.17</td>\n",
       "      <td>1.08</td>\n",
       "      <td>1.09</td>\n",
       "      <td>806,673,000</td>\n",
       "      <td>44,648,100,000</td>\n",
       "    </tr>\n",
       "    <tr>\n",
       "      <th>1</th>\n",
       "      <td>2018-02-19</td>\n",
       "      <td>1.12</td>\n",
       "      <td>1.17</td>\n",
       "      <td>1.12</td>\n",
       "      <td>1.14</td>\n",
       "      <td>556,304,000</td>\n",
       "      <td>43,813,300,000</td>\n",
       "    </tr>\n",
       "    <tr>\n",
       "      <th>2</th>\n",
       "      <td>2018-02-18</td>\n",
       "      <td>1.20</td>\n",
       "      <td>1.21</td>\n",
       "      <td>1.09</td>\n",
       "      <td>1.12</td>\n",
       "      <td>1,113,650,000</td>\n",
       "      <td>46,997,500,000</td>\n",
       "    </tr>\n",
       "    <tr>\n",
       "      <th>3</th>\n",
       "      <td>2018-02-17</td>\n",
       "      <td>1.14</td>\n",
       "      <td>1.22</td>\n",
       "      <td>1.13</td>\n",
       "      <td>1.20</td>\n",
       "      <td>1,186,730,000</td>\n",
       "      <td>44,370,200,000</td>\n",
       "    </tr>\n",
       "    <tr>\n",
       "      <th>4</th>\n",
       "      <td>2018-02-16</td>\n",
       "      <td>1.14</td>\n",
       "      <td>1.15</td>\n",
       "      <td>1.11</td>\n",
       "      <td>1.14</td>\n",
       "      <td>568,339,000</td>\n",
       "      <td>44,663,300,000</td>\n",
       "    </tr>\n",
       "  </tbody>\n",
       "</table>\n",
       "</div>"
      ],
      "text/plain": [
       "        Date  Open  High   Low  Close         Volume      Market Cap\n",
       "0 2018-02-20  1.14  1.17  1.08   1.09    806,673,000  44,648,100,000\n",
       "1 2018-02-19  1.12  1.17  1.12   1.14    556,304,000  43,813,300,000\n",
       "2 2018-02-18  1.20  1.21  1.09   1.12  1,113,650,000  46,997,500,000\n",
       "3 2018-02-17  1.14  1.22  1.13   1.20  1,186,730,000  44,370,200,000\n",
       "4 2018-02-16  1.14  1.15  1.11   1.14    568,339,000  44,663,300,000"
      ]
     },
     "execution_count": 7,
     "metadata": {},
     "output_type": "execute_result"
    }
   ],
   "source": [
    "df_ripple = pd.read_csv(\"ripple_price.csv\", parse_dates=['Date'])\n",
    "df_ripple.head()"
   ]
  },
  {
   "cell_type": "code",
   "execution_count": 8,
   "metadata": {},
   "outputs": [
    {
     "data": {
      "text/html": [
       "<div>\n",
       "<style scoped>\n",
       "    .dataframe tbody tr th:only-of-type {\n",
       "        vertical-align: middle;\n",
       "    }\n",
       "\n",
       "    .dataframe tbody tr th {\n",
       "        vertical-align: top;\n",
       "    }\n",
       "\n",
       "    .dataframe thead th {\n",
       "        text-align: right;\n",
       "    }\n",
       "</style>\n",
       "<table border=\"1\" class=\"dataframe\">\n",
       "  <thead>\n",
       "    <tr style=\"text-align: right;\">\n",
       "      <th></th>\n",
       "      <th>Date</th>\n",
       "      <th>Open</th>\n",
       "      <th>High</th>\n",
       "      <th>Low</th>\n",
       "      <th>Close</th>\n",
       "      <th>Volume</th>\n",
       "      <th>Market Cap</th>\n",
       "    </tr>\n",
       "  </thead>\n",
       "  <tbody>\n",
       "    <tr>\n",
       "      <th>0</th>\n",
       "      <td>2018-02-20</td>\n",
       "      <td>2.09</td>\n",
       "      <td>2.12</td>\n",
       "      <td>1.88</td>\n",
       "      <td>1.91</td>\n",
       "      <td>49,930,400</td>\n",
       "      <td>5,800,510,000</td>\n",
       "    </tr>\n",
       "    <tr>\n",
       "      <th>1</th>\n",
       "      <td>2018-02-19</td>\n",
       "      <td>1.99</td>\n",
       "      <td>2.14</td>\n",
       "      <td>1.99</td>\n",
       "      <td>2.09</td>\n",
       "      <td>32,581,400</td>\n",
       "      <td>5,521,610,000</td>\n",
       "    </tr>\n",
       "    <tr>\n",
       "      <th>2</th>\n",
       "      <td>2018-02-18</td>\n",
       "      <td>2.20</td>\n",
       "      <td>2.21</td>\n",
       "      <td>1.98</td>\n",
       "      <td>1.98</td>\n",
       "      <td>43,653,800</td>\n",
       "      <td>6,121,620,000</td>\n",
       "    </tr>\n",
       "    <tr>\n",
       "      <th>3</th>\n",
       "      <td>2018-02-17</td>\n",
       "      <td>2.10</td>\n",
       "      <td>2.21</td>\n",
       "      <td>2.08</td>\n",
       "      <td>2.20</td>\n",
       "      <td>42,149,700</td>\n",
       "      <td>5,842,140,000</td>\n",
       "    </tr>\n",
       "    <tr>\n",
       "      <th>4</th>\n",
       "      <td>2018-02-16</td>\n",
       "      <td>2.12</td>\n",
       "      <td>2.18</td>\n",
       "      <td>2.00</td>\n",
       "      <td>2.10</td>\n",
       "      <td>44,770,200</td>\n",
       "      <td>5,894,520,000</td>\n",
       "    </tr>\n",
       "  </tbody>\n",
       "</table>\n",
       "</div>"
      ],
      "text/plain": [
       "        Date  Open  High   Low  Close      Volume     Market Cap\n",
       "0 2018-02-20  2.09  2.12  1.88   1.91  49,930,400  5,800,510,000\n",
       "1 2018-02-19  1.99  2.14  1.99   2.09  32,581,400  5,521,610,000\n",
       "2 2018-02-18  2.20  2.21  1.98   1.98  43,653,800  6,121,620,000\n",
       "3 2018-02-17  2.10  2.21  2.08   2.20  42,149,700  5,842,140,000\n",
       "4 2018-02-16  2.12  2.18  2.00   2.10  44,770,200  5,894,520,000"
      ]
     },
     "execution_count": 8,
     "metadata": {},
     "output_type": "execute_result"
    }
   ],
   "source": [
    "df_iota = pd.read_csv(\"iota_price.csv\", parse_dates=['Date'])\n",
    "df_iota.head()"
   ]
  },
  {
   "cell_type": "code",
   "execution_count": 14,
   "metadata": {},
   "outputs": [
    {
     "name": "stderr",
     "output_type": "stream",
     "text": [
      "C:\\Users\\khaja\\Anaconda3\\lib\\site-packages\\seaborn\\timeseries.py:183: UserWarning: The tsplot function is deprecated and will be removed or replaced (in a substantially altered version) in a future release.\n",
      "  warnings.warn(msg, UserWarning)\n"
     ]
    },
    {
     "data": {
      "image/png": "[encoded data removed]",
      "text/plain": [
       "<Figure size 864x576 with 1 Axes>"
      ]
     },
     "metadata": {},
     "output_type": "display_data"
    }
   ],
   "source": [
    "import matplotlib.dates as mdates\n",
    "df_bitcoin['Date_mpl'] = df_bitcoin['Date'].apply(lambda x: mdates.date2num(x))\n",
    "\n",
    "fig, ax = plt.subplots(figsize=(12,8))\n",
    "sns.tsplot(df_bitcoin.Close.values, time=df_bitcoin.Date_mpl.values, alpha=0.8, ax=ax)\n",
    "ax.xaxis.set_major_locator(mdates.AutoDateLocator())\n",
    "ax.xaxis.set_major_formatter(mdates.DateFormatter('%Y.%m.%d'))\n",
    "fig.autofmt_xdate()\n",
    "plt.xlabel('Date', fontsize=12)\n",
    "plt.ylabel('Price in USD', fontsize=12)\n",
    "plt.title(\"Closing price distribution of bitcoin\", fontsize=15)\n",
    "plt.show()"
   ]
  },
  {
   "cell_type": "code",
   "execution_count": 15,
   "metadata": {},
   "outputs": [
    {
     "name": "stderr",
     "output_type": "stream",
     "text": [
      "C:\\Users\\khaja\\Anaconda3\\lib\\site-packages\\seaborn\\timeseries.py:183: UserWarning: The tsplot function is deprecated and will be removed or replaced (in a substantially altered version) in a future release.\n",
      "  warnings.warn(msg, UserWarning)\n"
     ]
    },
    {
     "data": {
      "image/png": "[encoded data removed]",
      "text/plain": [
       "<Figure size 864x576 with 1 Axes>"
      ]
     },
     "metadata": {},
     "output_type": "display_data"
    }
   ],
   "source": [
    "df_ethereum['Date_mpl'] = df_ethereum['Date'].apply(lambda x: mdates.date2num(x))\n",
    "\n",
    "fig, ax = plt.subplots(figsize=(12,8))\n",
    "sns.tsplot(df_ethereum.Close.values, time=df_ethereum.Date_mpl.values, alpha=0.8, ax=ax)\n",
    "ax.xaxis.set_major_locator(mdates.AutoDateLocator())\n",
    "ax.xaxis.set_major_formatter(mdates.DateFormatter('%Y.%m.%d'))\n",
    "fig.autofmt_xdate()\n",
    "plt.xlabel('Date', fontsize=12)\n",
    "plt.ylabel('Price in USD', fontsize=12)\n",
    "plt.title(\"Closing price distribution of ethereum\", fontsize=15)\n",
    "plt.show()"
   ]
  },
  {
   "cell_type": "code",
   "execution_count": 16,
   "metadata": {},
   "outputs": [
    {
     "name": "stderr",
     "output_type": "stream",
     "text": [
      "C:\\Users\\khaja\\Anaconda3\\lib\\site-packages\\seaborn\\timeseries.py:183: UserWarning: The tsplot function is deprecated and will be removed or replaced (in a substantially altered version) in a future release.\n",
      "  warnings.warn(msg, UserWarning)\n"
     ]
    },
    {
     "data": {
      "image/png": "[encoded data removed]",
      "text/plain": [
       "<Figure size 864x576 with 1 Axes>"
      ]
     },
     "metadata": {},
     "output_type": "display_data"
    }
   ],
   "source": [
    "df_litecoin['Date_mpl'] = df_litecoin['Date'].apply(lambda x: mdates.date2num(x))\n",
    "\n",
    "fig, ax = plt.subplots(figsize=(12,8))\n",
    "sns.tsplot(df_litecoin.Close.values, time=df_litecoin.Date_mpl.values, alpha=0.8, ax=ax)\n",
    "ax.xaxis.set_major_locator(mdates.AutoDateLocator())\n",
    "ax.xaxis.set_major_formatter(mdates.DateFormatter('%Y.%m.%d'))\n",
    "fig.autofmt_xdate()\n",
    "plt.xlabel('Date', fontsize=12)\n",
    "plt.ylabel('Price in USD', fontsize=12)\n",
    "plt.title(\"Closing price distribution of litecoin\", fontsize=15)\n",
    "plt.show()# Calculating the short-window simple moving average\n",
    "short_rolling = data.rolling(window=20).mean()\n",
    "short_rolling.head(20)# Calculating the short-window simple moving average\n",
    "short_rolling = data.rolling(window=20).mean()\n",
    "short_rolling.head(20)bitcoin_df = pd.read_excel(\"./CRYPTOCURRENCY/BITCOIN.xlsx\")\n",
    "litecoin_df = pd.read_excel(\"./CRYPTOCURRENCY/LITECOIN.xlsx\")\n",
    "etherium_df = pd.read_excel(\"./CRYPTOCURRENCY/ETHEREUM.xlsx\")"
   ]
  },
  {
   "cell_type": "code",
   "execution_count": 17,
   "metadata": {},
   "outputs": [
    {
     "name": "stderr",
     "output_type": "stream",
     "text": [
      "C:\\Users\\khaja\\Anaconda3\\lib\\site-packages\\seaborn\\timeseries.py:183: UserWarning: The tsplot function is deprecated and will be removed or replaced (in a substantially altered version) in a future release.\n",
      "  warnings.warn(msg, UserWarning)\n"
     ]
    },
    {
     "data": {
      "image/png": "[encoded data removed]",
      "text/plain": [
       "<Figure size 864x576 with 1 Axes>"
      ]
     },
     "metadata": {},
     "output_type": "display_data"
    }
   ],
   "source": [
    "df_ripple['Date_mpl'] = df_ripple['Date'].apply(lambda x: mdates.date2num(x))\n",
    "\n",
    "fig, ax = plt.subplots(figsize=(12,8))\n",
    "sns.tsplot(df_ripple.Close.values, time=df_ripple.Date_mpl.values, alpha=0.8, ax=ax)\n",
    "ax.xaxis.set_major_locator(mdates.AutoDateLocator())\n",
    "ax.xaxis.set_major_formatter(mdates.DateFormatter('%Y.%m.%d'))\n",
    "fig.autofmt_xdate()\n",
    "plt.xlabel('Date', fontsize=12)\n",
    "plt.ylabel('Price in USD', fontsize=12)\n",
    "plt.title(\"Closing price distribution of ripple\", fontsize=15)\n",
    "plt.show()"
   ]
  },
  {
   "cell_type": "code",
   "execution_count": 18,
   "metadata": {},
   "outputs": [
    {
     "name": "stderr",
     "output_type": "stream",
     "text": [
      "C:\\Users\\khaja\\Anaconda3\\lib\\site-packages\\seaborn\\timeseries.py:183: UserWarning: The tsplot function is deprecated and will be removed or replaced (in a substantially altered version) in a future release.\n",
      "  warnings.warn(msg, UserWarning)\n"
     ]
    },
    {
     "data": {
      "image/png": "[encoded data removed]",
      "text/plain": [
       "<Figure size 864x576 with 1 Axes>"
      ]
     },
     "metadata": {},
     "output_type": "display_data"
    }
   ],
   "source": [
    "df_iota['Date_mpl'] = df_iota['Date'].apply(lambda x: mdates.date2num(x))\n",
    "\n",
    "fig, ax = plt.subplots(figsize=(12,8))\n",
    "sns.tsplot(df_iota.Close.values, time=df_iota.Date_mpl.values, alpha=0.8, ax=ax)\n",
    "ax.xaxis.set_major_locator(mdates.AutoDateLocator())\n",
    "ax.xaxis.set_major_formatter(mdates.DateFormatter('%Y.%m.%d'))\n",
    "fig.autofmt_xdate()\n",
    "plt.xlabel('Date', fontsize=12)\n",
    "plt.ylabel('Price in USD', fontsize=12)\n",
    "plt.title(\"Closing price distribution of iota\", fontsize=15)\n",
    "plt.show()"
   ]
  },
  {
   "cell_type": "code",
   "execution_count": 24,
   "metadata": {},
   "outputs": [
    {
     "data": {
      "image/png": "[encoded data removed]",
      "text/plain": [
       "<Figure size 720x720 with 2 Axes>"
      ]
     },
     "metadata": {},
     "output_type": "display_data"
    }
   ],
   "source": [
    "files = [\"bitcoin_price.csv\", \"ethereum_price.csv\", \"ripple_price.csv\", \"litecoin_price.csv\", \"iota_price.csv\"]\n",
    "\n",
    "cols = []\n",
    "for ind, file_name in enumerate(files):\n",
    "    currency_name = file_name.split(\"_\")[0]\n",
    "    if ind == 0:\n",
    "        df = pd.read_csv(file_name, usecols=[\"Date\", \"Close\"], parse_dates=[\"Date\"])\n",
    "        df.columns = [\"Date\", currency_name]\n",
    "    else:\n",
    "        temp_df = pd.read_csv(file_name, usecols=[\"Date\", \"Close\"], parse_dates=[\"Date\"])\n",
    "        temp_df.columns = [\"Date\", currency_name]\n",
    "        df = pd.merge(df, temp_df, on=\"Date\")\n",
    "    cols.append(currency_name)\n",
    "df.head()\n",
    "        \n",
    "temp_df = df[cols]\n",
    "corrmat = temp_df.corr(method='spearman')\n",
    "fig, ax = plt.subplots(figsize=(10, 10))\n",
    "sns.heatmap(corrmat, vmax=1., square=True)\n",
    "plt.title(\"Cryptocurrency correlation map\", fontsize=15)\n",
    "plt.show()"
   ]
  },
  {
   "cell_type": "markdown",
   "metadata": {},
   "source": [
    "### The Dickey–Fuller test  - \n",
    "It tests the null hypothesis that a unit root is present in an autoregressive model. The alternative hypothesis is different depending on which version of the test is used, but is usually stationarity or trend-stationarity. \n",
    "    \n",
    "    A simple AR(1) model is\n",
    "\n",
    "{\\displaystyle y_{t}=\\rho y_{t-1}+u_{t}\\,} y_{t}=\\rho y_{t-1}+u_{t}\\,\n",
    "where {\\displaystyle y_{t}} y_{t} is the variable of interest, {\\displaystyle t} t is the time index, {\\displaystyle \\rho } \\rho  is a coefficient, and {\\displaystyle u_{t}} u_{t} is the error term. A unit root is present if {\\displaystyle \\rho =1} \\rho =1. The model would be non-stationary in this case.\n",
    "\n",
    "The regression model can be written as\n",
    "\n",
    "{\\displaystyle \\Delta y_{t}=(\\rho -1)y_{t-1}+u_{t}=\\delta y_{t-1}+u_{t}\\,} {\\displaystyle \\Delta y_{t}=(\\rho -1)y_{t-1}+u_{t}=\\delta y_{t-1}+u_{t}\\,}\n",
    "where {\\displaystyle \\Delta } \\Delta  is the first difference operator. This model can be estimated and testing for a unit root is equivalent to testing {\\displaystyle \\delta =0} \\delta = 0 (where {\\displaystyle \\delta \\equiv \\rho -1} \\delta \\equiv \\rho - 1). Since the test is done over the residual term rather than raw data, it is not possible to use standard t-distribution to provide critical values. Therefore, this statistic {\\displaystyle t} t has a specific distribution simply known as the Dickey–Fuller table.\n",
    "\n",
    "There are three main versions of the test:\n",
    "\n",
    "1. Test for a unit root:\n",
    "\n",
    "{\\displaystyle \\Delta y_{t}=\\delta y_{t-1}+u_{t}\\,} {\\displaystyle \\Delta y_{t}=\\delta y_{t-1}+u_{t}\\,}\n",
    "2. Test for a unit root with drift:\n",
    "\n",
    "{\\displaystyle \\Delta y_{t}=a_{0}+\\delta y_{t-1}+u_{t}\\,} {\\displaystyle \\Delta y_{t}=a_{0}+\\delta y_{t-1}+u_{t}\\,}\n",
    "3. Test for a unit root with drift and deterministic time trend:\n",
    "\n",
    "{\\displaystyle \\Delta y_{t}=a_{0}+a_{1}t+\\delta y_{t-1}+u_{t}\\,} {\\displaystyle \\Delta y_{t}=a_{0}+a_{1}t+\\delta y_{t-1}+u_{t}\\,}"
   ]
  },
  {
   "cell_type": "code",
   "execution_count": 25,
   "metadata": {},
   "outputs": [],
   "source": [
    "# Dickey Fuller Test Function\n",
    "def test_stationarity(timeseries):\n",
    "    # Perform Dickey-Fuller test:\n",
    "    from statsmodels.tsa.stattools import adfuller\n",
    "    print('Results of Dickey-Fuller Test:')\n",
    "    print (\"==============================================\")\n",
    "    \n",
    "    dftest = adfuller(timeseries, autolag='AIC')\n",
    "    \n",
    "    dfoutput = pd.Series(dftest[0:4], index=['Test Statistic', 'p-value', '#lags Used', 'Number of Observations Used'])\n",
    "    \n",
    "    for key, value in dftest[4].items():\n",
    "        dfoutput['Critical Value (%s)'%key] = value\n",
    "    \n",
    "    print(dfoutput)"
   ]
  },
  {
   "cell_type": "code",
   "execution_count": 26,
   "metadata": {},
   "outputs": [
    {
     "name": "stdout",
     "output_type": "stream",
     "text": [
      "Results of Dickey-Fuller Test:\n",
      "==============================================\n",
      "Test Statistic                   -3.886938\n",
      "p-value                           0.002133\n",
      "#lags Used                       25.000000\n",
      "Number of Observations Used    1734.000000\n",
      "Critical Value (1%)              -3.434127\n",
      "Critical Value (5%)              -2.863208\n",
      "Critical Value (10%)             -2.567658\n",
      "dtype: float64\n"
     ]
    }
   ],
   "source": [
    "# Stationarity Check with Dickey Fuller Test \n",
    "# Converted the DF to series first\n",
    "bit = df_bitcoin['Close']\n",
    "test_stationarity(bit)"
   ]
  },
  {
   "cell_type": "code",
   "execution_count": 27,
   "metadata": {},
   "outputs": [
    {
     "name": "stdout",
     "output_type": "stream",
     "text": [
      "Results of Dickey-Fuller Test:\n",
      "==============================================\n",
      "Test Statistic                  -4.481176\n",
      "p-value                          0.000213\n",
      "#lags Used                      21.000000\n",
      "Number of Observations Used    907.000000\n",
      "Critical Value (1%)             -3.437580\n",
      "Critical Value (5%)             -2.864732\n",
      "Critical Value (10%)            -2.568470\n",
      "dtype: float64\n"
     ]
    }
   ],
   "source": [
    "# Stationarity Check with Dickey Fuller Test \n",
    "# Convert the DF to series first\n",
    "eth = df_ethereum['Close']\n",
    "test_stationarity(eth)"
   ]
  },
  {
   "cell_type": "code",
   "execution_count": 28,
   "metadata": {},
   "outputs": [
    {
     "name": "stdout",
     "output_type": "stream",
     "text": [
      "Results of Dickey-Fuller Test:\n",
      "==============================================\n",
      "Test Statistic                   -4.030429\n",
      "p-value                           0.001259\n",
      "#lags Used                       25.000000\n",
      "Number of Observations Used    1734.000000\n",
      "Critical Value (1%)              -3.434127\n",
      "Critical Value (5%)              -2.863208\n",
      "Critical Value (10%)             -2.567658\n",
      "dtype: float64\n"
     ]
    }
   ],
   "source": [
    "# Stationarity Check with Dickey Fuller Test \n",
    "# Convert the DF to series first\n",
    "lite = df_litecoin['Close']\n",
    "test_stationarity(lite)"
   ]
  },
  {
   "cell_type": "code",
   "execution_count": 29,
   "metadata": {},
   "outputs": [
    {
     "name": "stdout",
     "output_type": "stream",
     "text": [
      "Results of Dickey-Fuller Test:\n",
      "==============================================\n",
      "Test Statistic                   -4.732099\n",
      "p-value                           0.000073\n",
      "#lags Used                       24.000000\n",
      "Number of Observations Used    1637.000000\n",
      "Critical Value (1%)              -3.434351\n",
      "Critical Value (5%)              -2.863307\n",
      "Critical Value (10%)             -2.567711\n",
      "dtype: float64\n"
     ]
    }
   ],
   "source": [
    "# Stationarity Check with Dickey Fuller Test \n",
    "# Convert the DF to series first\n",
    "ripple = df_ripple['Close']\n",
    "test_stationarity(ripple)"
   ]
  },
  {
   "cell_type": "code",
   "execution_count": 30,
   "metadata": {},
   "outputs": [
    {
     "name": "stdout",
     "output_type": "stream",
     "text": [
      "Results of Dickey-Fuller Test:\n",
      "==============================================\n",
      "Test Statistic                  -1.382235\n",
      "p-value                          0.590763\n",
      "#lags Used                      11.000000\n",
      "Number of Observations Used    241.000000\n",
      "Critical Value (1%)             -3.457779\n",
      "Critical Value (5%)             -2.873609\n",
      "Critical Value (10%)            -2.573202\n",
      "dtype: float64\n"
     ]
    }
   ],
   "source": [
    "# Stationarity Check with Dickey Fuller Test \n",
    "# Convert the DF to series first\n",
    "iota = df_iota['Close']\n",
    "test_stationarity(iota)"
   ]
  },
  {
   "cell_type": "code",
   "execution_count": 121,
   "metadata": {},
   "outputs": [],
   "source": [
    "df_bitcoin = pd.read_csv(\"bitcoin_price.csv\", parse_dates=['Date'])\n",
    "df_ethereum = pd.read_csv(\"ethereum_price.csv\", parse_dates=['Date'])\n",
    "df_litecoin = pd.read_csv(\"litecoin_price.csv\", parse_dates=['Date'])\n",
    "df_ripple = pd.read_csv(\"ripple_price.csv\", parse_dates=['Date'])\n",
    "df_iota = pd.read_csv(\"iota_price.csv\", parse_dates=['Date'])\n"
   ]
  },
  {
   "cell_type": "code",
   "execution_count": 122,
   "metadata": {},
   "outputs": [],
   "source": [
    "#create date as the dataframe index\n",
    "\n",
    "from pandas import DatetimeIndex\n",
    "df_bitcoin.index = DatetimeIndex(df_bitcoin['Date'])\n",
    "df_ethereum.index = DatetimeIndex(df_ethereum['Date'])\n",
    "df_litecoin.index = DatetimeIndex(df_litecoin['Date'])\n",
    "df_iota.index = DatetimeIndex(df_iota['Date'])\n",
    "df_ripple.index = DatetimeIndex(df_ripple['Date'])"
   ]
  },
  {
   "cell_type": "code",
   "execution_count": 123,
   "metadata": {
    "scrolled": true
   },
   "outputs": [],
   "source": [
    "df_bitcoin.drop(\"Date\",axis =1,inplace=True)\n",
    "df_ethereum.drop(\"Date\",axis =1,inplace=True)\n",
    "df_litecoin.drop(\"Date\",axis =1,inplace=True)\n",
    "df_iota.drop(\"Date\",axis =1,inplace=True)\n",
    "df_ripple.drop(\"Date\",axis =1,inplace=True)"
   ]
  },
  {
   "cell_type": "code",
   "execution_count": 124,
   "metadata": {},
   "outputs": [],
   "source": [
    "# Calculated the high, low and close price\n",
    "df_bitcoin['HLC'] = (2*df_bitcoin.High + df_bitcoin.Low + df_bitcoin.Close)/4\n",
    "df_ethereum['HLC'] = (2*df_ethereum.High+ df_ethereum.Low+ df_ethereum[\"Close\"])/4\n",
    "df_litecoin['HLC'] = (2*df_litecoin.High + df_litecoin.Low + df_litecoin[\"Close\"])/4\n",
    "df_ripple['HLC'] = (2*df_ripple.High + df_ripple.Low + df_ripple[\"Close\"])/4\n",
    "df_iota['HLC'] = (2*df_iota.High + df_iota.Low + df_iota[\"Close\"])/4"
   ]
  },
  {
   "cell_type": "code",
   "execution_count": 125,
   "metadata": {},
   "outputs": [],
   "source": [
    "data = df_litecoin.join(df_bitcoin, lsuffix='_litecoin', rsuffix='_bitcoin').join(df_ethereum,rsuffix=\"_ethereum\").join(df_ripple,rsuffix=\"_ripple\").join(df_iota,rsuffix=\"_iota\")"
   ]
  },
  {
   "cell_type": "code",
   "execution_count": 126,
   "metadata": {},
   "outputs": [
    {
     "data": {
      "text/plain": [
       "Index(['Open_litecoin', 'High_litecoin', 'Low_litecoin', 'Close_litecoin',\n",
       "       'Volume_litecoin', 'Market Cap_litecoin', 'HLC_litecoin',\n",
       "       'Open_bitcoin', 'High_bitcoin', 'Low_bitcoin', 'Close_bitcoin',\n",
       "       'Volume_bitcoin', 'Market Cap_bitcoin', 'HLC_bitcoin', 'Open', 'High',\n",
       "       'Low', 'Close', 'Volume', 'Market Cap', 'HLC', 'Open_ripple',\n",
       "       'High_ripple', 'Low_ripple', 'Close_ripple', 'Volume_ripple',\n",
       "       'Market Cap_ripple', 'HLC_ripple', 'Open_iota', 'High_iota', 'Low_iota',\n",
       "       'Close_iota', 'Volume_iota', 'Market Cap_iota', 'HLC_iota'],\n",
       "      dtype='object')"
      ]
     },
     "execution_count": 126,
     "metadata": {},
     "output_type": "execute_result"
    }
   ],
   "source": [
    "data.columns\n"
   ]
  },
  {
   "cell_type": "code",
   "execution_count": 55,
   "metadata": {},
   "outputs": [
    {
     "data": {
      "text/html": [
       "<div>\n",
       "<style scoped>\n",
       "    .dataframe tbody tr th:only-of-type {\n",
       "        vertical-align: middle;\n",
       "    }\n",
       "\n",
       "    .dataframe tbody tr th {\n",
       "        vertical-align: top;\n",
       "    }\n",
       "\n",
       "    .dataframe thead th {\n",
       "        text-align: right;\n",
       "    }\n",
       "</style>\n",
       "<table border=\"1\" class=\"dataframe\">\n",
       "  <thead>\n",
       "    <tr style=\"text-align: right;\">\n",
       "      <th></th>\n",
       "      <th>Date</th>\n",
       "      <th>Open_litecoin</th>\n",
       "      <th>High_litecoin</th>\n",
       "      <th>Low_litecoin</th>\n",
       "      <th>Close_litecoin</th>\n",
       "      <th>Volume_litecoin</th>\n",
       "      <th>Market Cap_litecoin</th>\n",
       "      <th>Date_mpl_litecoin</th>\n",
       "      <th>HLC_litecoin</th>\n",
       "      <th>Open_bitcoin</th>\n",
       "      <th>...</th>\n",
       "      <th>HLC_ripple</th>\n",
       "      <th>Date_iota</th>\n",
       "      <th>Open_iota</th>\n",
       "      <th>High_iota</th>\n",
       "      <th>Low_iota</th>\n",
       "      <th>Close_iota</th>\n",
       "      <th>Volume_iota</th>\n",
       "      <th>Market Cap_iota</th>\n",
       "      <th>Date_mpl_iota</th>\n",
       "      <th>HLC_iota</th>\n",
       "    </tr>\n",
       "    <tr>\n",
       "      <th>Date</th>\n",
       "      <th></th>\n",
       "      <th></th>\n",
       "      <th></th>\n",
       "      <th></th>\n",
       "      <th></th>\n",
       "      <th></th>\n",
       "      <th></th>\n",
       "      <th></th>\n",
       "      <th></th>\n",
       "      <th></th>\n",
       "      <th></th>\n",
       "      <th></th>\n",
       "      <th></th>\n",
       "      <th></th>\n",
       "      <th></th>\n",
       "      <th></th>\n",
       "      <th></th>\n",
       "      <th></th>\n",
       "      <th></th>\n",
       "      <th></th>\n",
       "      <th></th>\n",
       "    </tr>\n",
       "  </thead>\n",
       "  <tbody>\n",
       "    <tr>\n",
       "      <th>2018-02-20</th>\n",
       "      <td>2018-02-20</td>\n",
       "      <td>223.09</td>\n",
       "      <td>253.90</td>\n",
       "      <td>222.51</td>\n",
       "      <td>232.85</td>\n",
       "      <td>1,739,670,000</td>\n",
       "      <td>12,335,100,000</td>\n",
       "      <td>736745.0</td>\n",
       "      <td>240.790</td>\n",
       "      <td>11231.8</td>\n",
       "      <td>...</td>\n",
       "      <td>1.1275</td>\n",
       "      <td>2018-02-20</td>\n",
       "      <td>2.09</td>\n",
       "      <td>2.12</td>\n",
       "      <td>1.88</td>\n",
       "      <td>1.91</td>\n",
       "      <td>49,930,400</td>\n",
       "      <td>5,800,510,000</td>\n",
       "      <td>736745.0</td>\n",
       "      <td>2.0075</td>\n",
       "    </tr>\n",
       "    <tr>\n",
       "      <th>2018-02-19</th>\n",
       "      <td>2018-02-19</td>\n",
       "      <td>215.41</td>\n",
       "      <td>226.97</td>\n",
       "      <td>215.38</td>\n",
       "      <td>223.06</td>\n",
       "      <td>767,597,000</td>\n",
       "      <td>11,907,900,000</td>\n",
       "      <td>736744.0</td>\n",
       "      <td>223.095</td>\n",
       "      <td>10552.6</td>\n",
       "      <td>...</td>\n",
       "      <td>1.1500</td>\n",
       "      <td>2018-02-19</td>\n",
       "      <td>1.99</td>\n",
       "      <td>2.14</td>\n",
       "      <td>1.99</td>\n",
       "      <td>2.09</td>\n",
       "      <td>32,581,400</td>\n",
       "      <td>5,521,610,000</td>\n",
       "      <td>736744.0</td>\n",
       "      <td>2.0900</td>\n",
       "    </tr>\n",
       "  </tbody>\n",
       "</table>\n",
       "<p>2 rows × 44 columns</p>\n",
       "</div>"
      ],
      "text/plain": [
       "                 Date  Open_litecoin  High_litecoin  Low_litecoin  \\\n",
       "Date                                                                \n",
       "2018-02-20 2018-02-20         223.09         253.90        222.51   \n",
       "2018-02-19 2018-02-19         215.41         226.97        215.38   \n",
       "\n",
       "            Close_litecoin Volume_litecoin Market Cap_litecoin  \\\n",
       "Date                                                             \n",
       "2018-02-20          232.85   1,739,670,000      12,335,100,000   \n",
       "2018-02-19          223.06     767,597,000      11,907,900,000   \n",
       "\n",
       "            Date_mpl_litecoin  HLC_litecoin  Open_bitcoin    ...     \\\n",
       "Date                                                         ...      \n",
       "2018-02-20           736745.0       240.790       11231.8    ...      \n",
       "2018-02-19           736744.0       223.095       10552.6    ...      \n",
       "\n",
       "            HLC_ripple  Date_iota  Open_iota High_iota Low_iota  Close_iota  \\\n",
       "Date                                                                          \n",
       "2018-02-20      1.1275 2018-02-20       2.09      2.12     1.88        1.91   \n",
       "2018-02-19      1.1500 2018-02-19       1.99      2.14     1.99        2.09   \n",
       "\n",
       "            Volume_iota Market Cap_iota  Date_mpl_iota  HLC_iota  \n",
       "Date                                                              \n",
       "2018-02-20   49,930,400   5,800,510,000       736745.0    2.0075  \n",
       "2018-02-19   32,581,400   5,521,610,000       736744.0    2.0900  \n",
       "\n",
       "[2 rows x 44 columns]"
      ]
     },
     "execution_count": 55,
     "metadata": {},
     "output_type": "execute_result"
    }
   ],
   "source": [
    "data.head(2)"
   ]
  },
  {
   "cell_type": "code",
   "execution_count": 127,
   "metadata": {},
   "outputs": [],
   "source": [
    "profile_data = pd.DataFrame(data = [data.HLC_bitcoin,data.HLC_litecoin,data.HLC_ripple,data.HLC])\n",
    "profile_data = profile_data.T"
   ]
  },
  {
   "cell_type": "code",
   "execution_count": 128,
   "metadata": {},
   "outputs": [],
   "source": [
    "profile_data.rename(columns={\"HLC_bitcoin\":\"Bitcoin\",\"HLC_litecoin\":\"Litecoin\",\"HLC\":\"Ethereum\",\"HLC_ripple\": \"Ripple\"},inplace=True)"
   ]
  },
  {
   "cell_type": "code",
   "execution_count": 129,
   "metadata": {},
   "outputs": [
    {
     "data": {
      "text/plain": [
       "Index(['Bitcoin', 'Litecoin', 'Ripple', 'Ethereum'], dtype='object')"
      ]
     },
     "execution_count": 129,
     "metadata": {},
     "output_type": "execute_result"
    }
   ],
   "source": [
    "profile_data.columns"
   ]
  },
  {
   "cell_type": "code",
   "execution_count": 130,
   "metadata": {},
   "outputs": [
    {
     "data": {
      "text/html": [
       "<div>\n",
       "<style scoped>\n",
       "    .dataframe tbody tr th:only-of-type {\n",
       "        vertical-align: middle;\n",
       "    }\n",
       "\n",
       "    .dataframe tbody tr th {\n",
       "        vertical-align: top;\n",
       "    }\n",
       "\n",
       "    .dataframe thead th {\n",
       "        text-align: right;\n",
       "    }\n",
       "</style>\n",
       "<table border=\"1\" class=\"dataframe\">\n",
       "  <thead>\n",
       "    <tr style=\"text-align: right;\">\n",
       "      <th></th>\n",
       "      <th>Bitcoin</th>\n",
       "      <th>Litecoin</th>\n",
       "      <th>Ripple</th>\n",
       "      <th>Ethereum</th>\n",
       "    </tr>\n",
       "    <tr>\n",
       "      <th>Date</th>\n",
       "      <th></th>\n",
       "      <th></th>\n",
       "      <th></th>\n",
       "      <th></th>\n",
       "    </tr>\n",
       "  </thead>\n",
       "  <tbody>\n",
       "    <tr>\n",
       "      <th>2018-02-20</th>\n",
       "      <td>11638.125</td>\n",
       "      <td>240.7900</td>\n",
       "      <td>1.1275</td>\n",
       "      <td>929.7100</td>\n",
       "    </tr>\n",
       "    <tr>\n",
       "      <th>2018-02-19</th>\n",
       "      <td>11071.525</td>\n",
       "      <td>223.0950</td>\n",
       "      <td>1.1500</td>\n",
       "      <td>945.2450</td>\n",
       "    </tr>\n",
       "    <tr>\n",
       "      <th>2018-02-18</th>\n",
       "      <td>10894.350</td>\n",
       "      <td>223.8700</td>\n",
       "      <td>1.1575</td>\n",
       "      <td>951.3075</td>\n",
       "    </tr>\n",
       "    <tr>\n",
       "      <th>2018-02-17</th>\n",
       "      <td>10885.275</td>\n",
       "      <td>230.4925</td>\n",
       "      <td>1.1925</td>\n",
       "      <td>967.0175</td>\n",
       "    </tr>\n",
       "    <tr>\n",
       "      <th>2018-02-16</th>\n",
       "      <td>10176.730</td>\n",
       "      <td>228.6575</td>\n",
       "      <td>1.1375</td>\n",
       "      <td>940.5150</td>\n",
       "    </tr>\n",
       "  </tbody>\n",
       "</table>\n",
       "</div>"
      ],
      "text/plain": [
       "              Bitcoin  Litecoin  Ripple  Ethereum\n",
       "Date                                             \n",
       "2018-02-20  11638.125  240.7900  1.1275  929.7100\n",
       "2018-02-19  11071.525  223.0950  1.1500  945.2450\n",
       "2018-02-18  10894.350  223.8700  1.1575  951.3075\n",
       "2018-02-17  10885.275  230.4925  1.1925  967.0175\n",
       "2018-02-16  10176.730  228.6575  1.1375  940.5150"
      ]
     },
     "execution_count": 130,
     "metadata": {},
     "output_type": "execute_result"
    }
   ],
   "source": [
    "profile_data.drop(profile_data[profile_data['Ethereum'].isnull()].index,inplace=True)\n",
    "profile_data.head()"
   ]
  },
  {
   "cell_type": "code",
   "execution_count": 131,
   "metadata": {},
   "outputs": [
    {
     "data": {
      "text/html": [
       "<div>\n",
       "<style scoped>\n",
       "    .dataframe tbody tr th:only-of-type {\n",
       "        vertical-align: middle;\n",
       "    }\n",
       "\n",
       "    .dataframe tbody tr th {\n",
       "        vertical-align: top;\n",
       "    }\n",
       "\n",
       "    .dataframe thead th {\n",
       "        text-align: right;\n",
       "    }\n",
       "</style>\n",
       "<table border=\"1\" class=\"dataframe\">\n",
       "  <thead>\n",
       "    <tr style=\"text-align: right;\">\n",
       "      <th></th>\n",
       "      <th>Bitcoin</th>\n",
       "      <th>Litecoin</th>\n",
       "      <th>Ripple</th>\n",
       "      <th>Ethereum</th>\n",
       "    </tr>\n",
       "    <tr>\n",
       "      <th>Date</th>\n",
       "      <th></th>\n",
       "      <th></th>\n",
       "      <th></th>\n",
       "      <th></th>\n",
       "    </tr>\n",
       "  </thead>\n",
       "  <tbody>\n",
       "    <tr>\n",
       "      <th>2015-08-11</th>\n",
       "      <td>264.380357</td>\n",
       "      <td>4.004286</td>\n",
       "      <td>0.008385</td>\n",
       "      <td>1.512387</td>\n",
       "    </tr>\n",
       "    <tr>\n",
       "      <th>2015-08-10</th>\n",
       "      <td>265.274286</td>\n",
       "      <td>3.998214</td>\n",
       "      <td>0.008457</td>\n",
       "      <td>1.414341</td>\n",
       "    </tr>\n",
       "    <tr>\n",
       "      <th>2015-08-09</th>\n",
       "      <td>265.957143</td>\n",
       "      <td>3.992857</td>\n",
       "      <td>0.008510</td>\n",
       "      <td>1.308295</td>\n",
       "    </tr>\n",
       "    <tr>\n",
       "      <th>2015-08-08</th>\n",
       "      <td>266.863571</td>\n",
       "      <td>4.000000</td>\n",
       "      <td>0.008523</td>\n",
       "      <td>1.310011</td>\n",
       "    </tr>\n",
       "    <tr>\n",
       "      <th>2015-08-07</th>\n",
       "      <td>268.814643</td>\n",
       "      <td>4.021071</td>\n",
       "      <td>0.008500</td>\n",
       "      <td>1.462511</td>\n",
       "    </tr>\n",
       "  </tbody>\n",
       "</table>\n",
       "</div>"
      ],
      "text/plain": [
       "               Bitcoin  Litecoin    Ripple  Ethereum\n",
       "Date                                                \n",
       "2015-08-11  264.380357  4.004286  0.008385  1.512387\n",
       "2015-08-10  265.274286  3.998214  0.008457  1.414341\n",
       "2015-08-09  265.957143  3.992857  0.008510  1.308295\n",
       "2015-08-08  266.863571  4.000000  0.008523  1.310011\n",
       "2015-08-07  268.814643  4.021071  0.008500  1.462511"
      ]
     },
     "execution_count": 131,
     "metadata": {},
     "output_type": "execute_result"
    }
   ],
   "source": [
    "# Calculating the short-window simple moving average\n",
    "short_rolling = profile_data.rolling(window=7).mean()\n",
    "short_rolling.tail()"
   ]
  },
  {
   "cell_type": "code",
   "execution_count": 132,
   "metadata": {},
   "outputs": [
    {
     "data": {
      "text/html": [
       "<div>\n",
       "<style scoped>\n",
       "    .dataframe tbody tr th:only-of-type {\n",
       "        vertical-align: middle;\n",
       "    }\n",
       "\n",
       "    .dataframe tbody tr th {\n",
       "        vertical-align: top;\n",
       "    }\n",
       "\n",
       "    .dataframe thead th {\n",
       "        text-align: right;\n",
       "    }\n",
       "</style>\n",
       "<table border=\"1\" class=\"dataframe\">\n",
       "  <thead>\n",
       "    <tr style=\"text-align: right;\">\n",
       "      <th></th>\n",
       "      <th>Bitcoin</th>\n",
       "      <th>Litecoin</th>\n",
       "      <th>Ripple</th>\n",
       "      <th>Ethereum</th>\n",
       "    </tr>\n",
       "    <tr>\n",
       "      <th>Date</th>\n",
       "      <th></th>\n",
       "      <th></th>\n",
       "      <th></th>\n",
       "      <th></th>\n",
       "    </tr>\n",
       "  </thead>\n",
       "  <tbody>\n",
       "    <tr>\n",
       "      <th>2015-08-11</th>\n",
       "      <td>247.475000</td>\n",
       "      <td>3.759643</td>\n",
       "      <td>0.008080</td>\n",
       "      <td>1.432801</td>\n",
       "    </tr>\n",
       "    <tr>\n",
       "      <th>2015-08-10</th>\n",
       "      <td>250.759107</td>\n",
       "      <td>3.814464</td>\n",
       "      <td>0.008173</td>\n",
       "      <td>1.390385</td>\n",
       "    </tr>\n",
       "    <tr>\n",
       "      <th>2015-08-09</th>\n",
       "      <td>253.265893</td>\n",
       "      <td>3.847500</td>\n",
       "      <td>0.008251</td>\n",
       "      <td>1.347897</td>\n",
       "    </tr>\n",
       "    <tr>\n",
       "      <th>2015-08-08</th>\n",
       "      <td>256.097321</td>\n",
       "      <td>3.882857</td>\n",
       "      <td>0.008302</td>\n",
       "      <td>1.372505</td>\n",
       "    </tr>\n",
       "    <tr>\n",
       "      <th>2015-08-07</th>\n",
       "      <td>259.304107</td>\n",
       "      <td>3.922500</td>\n",
       "      <td>0.008318</td>\n",
       "      <td>1.488577</td>\n",
       "    </tr>\n",
       "  </tbody>\n",
       "</table>\n",
       "</div>"
      ],
      "text/plain": [
       "               Bitcoin  Litecoin    Ripple  Ethereum\n",
       "Date                                                \n",
       "2015-08-11  247.475000  3.759643  0.008080  1.432801\n",
       "2015-08-10  250.759107  3.814464  0.008173  1.390385\n",
       "2015-08-09  253.265893  3.847500  0.008251  1.347897\n",
       "2015-08-08  256.097321  3.882857  0.008302  1.372505\n",
       "2015-08-07  259.304107  3.922500  0.008318  1.488577"
      ]
     },
     "execution_count": 132,
     "metadata": {},
     "output_type": "execute_result"
    }
   ],
   "source": [
    "# Calculating the long-window simple moving average\n",
    "long_rolling = profile_data.rolling(window=14).mean()\n",
    "long_rolling.tail()"
   ]
  },
  {
   "cell_type": "code",
   "execution_count": 149,
   "metadata": {},
   "outputs": [
    {
     "data": {
      "image/png": "[encoded data removed]",
      "text/plain": [
       "<Figure size 720x576 with 1 Axes>"
      ]
     },
     "metadata": {},
     "output_type": "display_data"
    },
    {
     "data": {
      "image/png": "[encoded data removed]",
      "text/plain": [
       "<Figure size 720x576 with 1 Axes>"
      ]
     },
     "metadata": {},
     "output_type": "display_data"
    }
   ],
   "source": [
    "# Kalman filter example \n",
    "\n",
    "\n",
    "import numpy as np\n",
    "import matplotlib.pyplot as plt\n",
    "\n",
    "plt.rcParams['figure.figsize'] = (10, 8)\n",
    "\n",
    "# intial parameters\n",
    "n_iter = 50\n",
    "sz = (n_iter,) # size of array\n",
    "x = -0.37727 # truth value (typo in example at top of p. 13 calls this z)\n",
    "z = np.random.normal(x,0.1,size=sz) # observations (normal about x, sigma=0.1)\n",
    "\n",
    "Q = 1e-5 # process variance\n",
    "\n",
    "# allocate space for arrays\n",
    "xhat=np.zeros(sz)      # a posteri estimate of x\n",
    "P=np.zeros(sz)         # a posteri error estimate\n",
    "xhatminus=np.zeros(sz) # a priori estimate of x\n",
    "Pminus=np.zeros(sz)    # a priori error estimate\n",
    "K=np.zeros(sz)         # gain or blending factor\n",
    "\n",
    "R = 0.1**2 # estimate of measurement variance, change to see effect\n",
    "\n",
    "# intial guesses\n",
    "xhat[0] = 0.0\n",
    "P[0] = 1.0\n",
    "\n",
    "for k in range(1,n_iter):\n",
    "    # time update\n",
    "    xhatminus[k] = xhat[k-1]\n",
    "    Pminus[k] = P[k-1]+Q\n",
    "\n",
    "    # measurement update\n",
    "    K[k] = Pminus[k]/( Pminus[k]+R )\n",
    "    xhat[k] = xhatminus[k]+K[k]*(z[k]-xhatminus[k])\n",
    "    P[k] = (1-K[k])*Pminus[k]\n",
    "\n",
    "plt.figure()\n",
    "plt.plot(z,'k+',label='noisy measurements')\n",
    "plt.plot(xhat,'b-',label='a posteri estimate')\n",
    "plt.axhline(x,color='g',label='truth value')\n",
    "plt.legend()\n",
    "plt.title('Estimate vs. iteration step', fontweight='bold')\n",
    "\n",
    "\n",
    "plt.figure()\n",
    "valid_iter = range(1,n_iter) # Pminus not valid at step 0\n",
    "plt.plot(valid_iter,Pminus[valid_iter],label='a priori error estimate')\n",
    "plt.title('Estimated $\\it{\\mathbf{a \\ priori}}$ error vs. iteration step', fontweight='bold')\n",
    "plt.xlabel('Iteration')\n",
    "plt.setp(plt.gca(),'ylim',[0,.01])\n",
    "plt.show()"
   ]
  },
  {
   "cell_type": "markdown",
   "metadata": {},
   "source": [
    "## References\n",
    "1.  https://www.kaggle.com/sandipdatta/time-series-basic-analysis\n",
    "2. https://towardsdatascience.com/kalman-filter-an-algorithm-for-making-sense-from-the-insights-of-various-sensors-fused-together-ddf67597f35e\n",
    "3. https://scipy-cookbook.readthedocs.io/\n",
    "4. https://en.wikipedia.org/wiki/Kalman_filter#Square_root_form"
   ]
  },
  {
   "cell_type": "code",
   "execution_count": null,
   "metadata": {},
   "outputs": [],
   "source": []
  }
 ],
 "metadata": {
  "kernelspec": {
   "display_name": "Python 3",
   "language": "python",
   "name": "python3"
  },
  "language_info": {
   "codemirror_mode": {
    "name": "ipython",
    "version": 3
   },
   "file_extension": ".py",
   "mimetype": "text/x-python",
   "name": "python",
   "nbconvert_exporter": "python",
   "pygments_lexer": "ipython3",
   "version": "3.6.5"
  }
 },
 "nbformat": 4,
 "nbformat_minor": 2
}
